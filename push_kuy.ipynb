{
 "cells": [
  {
   "cell_type": "markdown",
   "metadata": {},
   "source": []
  },
  {
   "cell_type": "code",
   "execution_count": null,
   "metadata": {},
   "outputs": [],
   "source": [
    "def rumus_luas (p,l):\n",
    "    return p*l"
   ]
  },
  {
   "cell_type": "markdown",
   "metadata": {},
   "source": [
    "# Notebook\n",
    "## Sub Heading 1\n",
    "### sub eading 2\n",
    "###### sub Heading 6"
   ]
  },
  {
   "cell_type": "markdown",
   "metadata": {},
   "source": [
    "# Tutorial Push GitHub"
   ]
  },
  {
   "cell_type": "markdown",
   "metadata": {},
   "source": [
    "1. `git clone ssh-rsa AAAAB3NzaC1yc2EAAAADAQABAAACAQC+uo4+Cyf0RadkM0JcNaRaKMMoGQqueD8sujJmszqpVigSBbKjHtJjwcHTLcgAbb1uNCvcotKqQ5KCUWfBemd0ITCp9d+XWuLgrFbWrIDnw4fRSo12VZyYIAX2N5eRtLP2l8KPvTQ1jkFk3gvvNChHQU3w11wdwA5/NVlp2sB5tq6RhvPoJYtl5Pz7w4K7Rl2jDm+dOu5GqNaXnWmfVJj4URc+ScX5L+MQN9ypkumBPYXmRwbuYk5cPIdSHRUDZiphtpGVKHVOWttWTbcvkPeGmZ2BwqroZLAjeQi4wzdVVU+RewnWT+CfKWx3eKUUEyqVIP/RHZYrflpVfyWzWC1t8/sMey7hVaqDgjCQTy4NyYD/2cD4DS6eC/HEJliIocVHC3+vaYv8BXRrPMT0RPQbgJ/tj4bpCV+Kl5fWQjOfG5KQT1gNFw4j42UIC7C6MJbUNQ2ELRhY3iODjBXOesXVhYTxGQB0nwnSB5dC860Q+tbKLG4PTFq7s5sTxBtEF8YtdPnCUhmRJ+g/uUK2huW0UkhVAmtcrz0EZpDhzouL77bcPEeVJ9Lxi0cQcmBCCTWoDWCWHWN+oVjue5NBM9AE5C29Ou9JkAsR3kQ7Tmxk9JJAYzfuLLUbdWCLbP8kVT2jptvAr3U+P+c/HOHwoxEKrlInQnRArlY1M4B8k5rC+Q== rifatsyq2@gmail.com.com`\n",
    "2. `cd` ke repo di local device kalian\n",
    "3. buat file tugas atau copas dari folder sebelum repo terbentuk\n",
    "4. `git status` untuk cek file terbaru tsb -> harusnya warna filenya merah\n",
    "5. `git add` untuk masukan seluruh file di repo lokal ke stage mode\n",
    "6. `git status` sekarang file yg tadinya warna merah harusnya warna hijau\n",
    "7. `git commit` -m \"final push\" untuk commit tugas dan memberikan message (-m)\n",
    "8. `git push` untuk push ke github\n",
    "9. make sure di github file sudah terupload\n",
    "10. `git checkout` <no version> untuk cek versi di lokal dan di repo lokal dan repo github"
   ]
  },
  {
   "cell_type": "markdown",
   "metadata": {},
   "source": [
    "untuk menambahkan text dengan code di cell pakai\n",
    "\n",
    "````py\n",
    "fruits = [\"apple\", \"banana\", \"cherry\"]\n",
    "for x in fruits:\n",
    "  if x == \"banana\":\n",
    "    continue\n",
    "  print(x)"
   ]
  },
  {
   "cell_type": "markdown",
   "metadata": {},
   "source": []
  },
  {
   "cell_type": "code",
   "execution_count": 1,
   "metadata": {},
   "outputs": [
    {
     "name": "stdout",
     "output_type": "stream",
     "text": [
      "apple\n",
      "cherry\n"
     ]
    }
   ],
   "source": [
    "fruits = [\"apple\", \"banana\", \"cherry\"]\n",
    "for x in fruits:\n",
    "  if x == \"banana\":\n",
    "    continue\n",
    "  print(x)"
   ]
  }
 ],
 "metadata": {
  "kernelspec": {
   "display_name": "base",
   "language": "python",
   "name": "python3"
  },
  "language_info": {
   "codemirror_mode": {
    "name": "ipython",
    "version": 3
   },
   "file_extension": ".py",
   "mimetype": "text/x-python",
   "name": "python",
   "nbconvert_exporter": "python",
   "pygments_lexer": "ipython3",
   "version": "3.12.7"
  }
 },
 "nbformat": 4,
 "nbformat_minor": 2
}
